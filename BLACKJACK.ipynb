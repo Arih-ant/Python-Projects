{
 "cells": [
  {
   "cell_type": "code",
   "execution_count": 1,
   "metadata": {},
   "outputs": [],
   "source": [
    "import random"
   ]
  },
  {
   "cell_type": "code",
   "execution_count": 2,
   "metadata": {},
   "outputs": [],
   "source": [
    "suits = ('Hearts','Diamonds','Spades','Clubs')\n",
    "ranks = ('Two', 'Three', 'Four', 'Five', 'Six', 'Seven', 'Eight', 'Nine', 'Ten', 'Jack', 'Queen', 'King', 'Ace')\n",
    "values = {'Two':2, 'Three':3, 'Four':4, 'Five':5, 'Six':6, 'Seven':7, 'Eight':8, \n",
    "            'Nine':9, 'Ten':10, 'Jack':10, 'Queen':10, 'King':10, 'Ace':11}"
   ]
  },
  {
   "cell_type": "code",
   "execution_count": 3,
   "metadata": {},
   "outputs": [
    {
     "data": {
      "text/plain": [
       "11"
      ]
     },
     "execution_count": 3,
     "metadata": {},
     "output_type": "execute_result"
    }
   ],
   "source": [
    "values['Ace']"
   ]
  },
  {
   "cell_type": "code",
   "execution_count": 4,
   "metadata": {},
   "outputs": [],
   "source": [
    "class Cards:\n",
    "    \n",
    "    def __init__(self,suit,rank):\n",
    "        self.suit = suit\n",
    "        self.rank = rank\n",
    "        self.values = values[rank]\n",
    "    \n",
    "    def __str__(self):\n",
    "        return self.rank + ' of ' + self.suit"
   ]
  },
  {
   "cell_type": "code",
   "execution_count": 5,
   "metadata": {},
   "outputs": [],
   "source": [
    "mycard = Cards('Hearts',\"King\")"
   ]
  },
  {
   "cell_type": "code",
   "execution_count": 6,
   "metadata": {},
   "outputs": [
    {
     "name": "stdout",
     "output_type": "stream",
     "text": [
      "King of Hearts\n"
     ]
    }
   ],
   "source": [
    "print(mycard)"
   ]
  },
  {
   "cell_type": "code",
   "execution_count": 7,
   "metadata": {},
   "outputs": [
    {
     "data": {
      "text/plain": [
       "'King'"
      ]
     },
     "execution_count": 7,
     "metadata": {},
     "output_type": "execute_result"
    }
   ],
   "source": [
    "mycard.rank"
   ]
  },
  {
   "cell_type": "code",
   "execution_count": 8,
   "metadata": {},
   "outputs": [
    {
     "data": {
      "text/plain": [
       "10"
      ]
     },
     "execution_count": 8,
     "metadata": {},
     "output_type": "execute_result"
    }
   ],
   "source": [
    "mycard.values"
   ]
  },
  {
   "cell_type": "code",
   "execution_count": 9,
   "metadata": {},
   "outputs": [],
   "source": [
    "class Deck:\n",
    "    def __init__(self):\n",
    "        self.all_cards = []\n",
    "        for suit in suits:\n",
    "            for rank in ranks:\n",
    "                self.all_cards.append(Cards(suit,rank))\n",
    "                \n",
    "    def shuffle(self):\n",
    "        random.shuffle(self.all_cards)\n",
    "        \n",
    "    def __str__(self):\n",
    "        for i in range(len(self.all_cards)):\n",
    "            print(self.all_cards[i])"
   ]
  },
  {
   "cell_type": "code",
   "execution_count": 10,
   "metadata": {},
   "outputs": [],
   "source": [
    "newdeck = Deck()"
   ]
  },
  {
   "cell_type": "code",
   "execution_count": 11,
   "metadata": {},
   "outputs": [
    {
     "data": {
      "text/plain": [
       "52"
      ]
     },
     "execution_count": 11,
     "metadata": {},
     "output_type": "execute_result"
    }
   ],
   "source": [
    "len(newdeck.all_cards)"
   ]
  },
  {
   "cell_type": "code",
   "execution_count": 12,
   "metadata": {},
   "outputs": [
    {
     "name": "stdout",
     "output_type": "stream",
     "text": [
      "Two of Hearts\n"
     ]
    }
   ],
   "source": [
    "print(newdeck.all_cards[0])"
   ]
  },
  {
   "cell_type": "code",
   "execution_count": 13,
   "metadata": {},
   "outputs": [],
   "source": [
    "newdeck.shuffle()"
   ]
  },
  {
   "cell_type": "code",
   "execution_count": 14,
   "metadata": {},
   "outputs": [
    {
     "name": "stdout",
     "output_type": "stream",
     "text": [
      "Two of Diamonds\n"
     ]
    }
   ],
   "source": [
    "print(newdeck.all_cards[0])"
   ]
  },
  {
   "cell_type": "code",
   "execution_count": 15,
   "metadata": {},
   "outputs": [],
   "source": [
    "class BankRoll:\n",
    "   \n",
    "    def __init__(self):\n",
    "        self.balance = 10000\n",
    "        \n",
    "    def addition(self,addition_value):\n",
    "        # game won after placing a bet\n",
    "        self.balance += int(addition_value)\n",
    "            \n",
    "    def subtraction(self,subtraction_value):\n",
    "        # placing a bet\n",
    "        self.balance -= int(subtraction_value)\n",
    "        \n",
    "    def __str__(self):\n",
    "        \n",
    "        return f\"You have {self.balance} left in your account\"\n",
    "    \n",
    "    def amount(self):\n",
    "        return self.balance\n",
    "        "
   ]
  },
  {
   "cell_type": "code",
   "execution_count": 16,
   "metadata": {},
   "outputs": [],
   "source": [
    "def introduction():\n",
    "    player_name = input(\"please enter your name: \")\n",
    "    print(f\"Hello {player_name} ,we're about to start the game \\nYOU HAVE 10000 CHIPS IN YOUR ACCOUNT ,PLACE YOUR BET ACCORDINGLY\")\n",
    "    "
   ]
  },
  {
   "cell_type": "code",
   "execution_count": 17,
   "metadata": {},
   "outputs": [],
   "source": [
    "def show(deck_of_cards):\n",
    "    print(\"your cards are:  \")\n",
    "    for card in deck_of_cards:\n",
    "        print(card)\n",
    "    print(\" \")"
   ]
  },
  {
   "cell_type": "code",
   "execution_count": 18,
   "metadata": {},
   "outputs": [],
   "source": [
    "class Hand:\n",
    "    def __init__(self):\n",
    "        self.all_cards = []\n",
    "        \n",
    "    def initial_cards(self,only_two_cards):\n",
    "        \n",
    "        if len(only_two_cards) == 2:\n",
    "            self.all_cards.append(only_two_cards[0])\n",
    "            self.all_cards.append(only_two_cards[1])\n",
    "        else :\n",
    "            print(\"there should be 2 cards only\")\n",
    "        show(self.all_cards)\n",
    "            \n",
    "    def hit_or_stay(self,given_deck_of_cards):\n",
    "        player_input = (input(\"Hit or Stay: \")).lower()\n",
    "        while player_input not in [\"hit\",\"stay\"]:\n",
    "            player_input = (input(\"Hit or Stay only : \")).lower()\n",
    "        \n",
    "        while player_input == 'hit':\n",
    "            random.shuffle(given_deck_of_cards) \n",
    "            self.all_cards.append(given_deck_of_cards[-1])\n",
    "            given_deck_of_cards.pop()\n",
    "            show(self.all_cards)\n",
    "            a = []\n",
    "            c = 0\n",
    "            for card in self.all_cards:\n",
    "                a  = a + [str(card).split()[0]]\n",
    "                c += values[str(card).split()[0]]\n",
    "            \n",
    "            if c>21:    \n",
    "                for card in self.all_cards:\n",
    "                    if str(card).split()[0] == \"Ace\" and c>21:\n",
    "                        c = c-10\n",
    "            if c>21:\n",
    "                \n",
    "                break\n",
    "            player_input = (input(\"Hit or Stay: \")).lower()\n",
    "            while player_input not in [\"hit\",\"stay\"]:\n",
    "                player_input = (input(\"Hit or Stay only : \")).lower()\n",
    "            \n",
    "        else:\n",
    "            show(self.all_cards)\n",
    "            \n",
    "    \n",
    "    "
   ]
  },
  {
   "cell_type": "code",
   "execution_count": 19,
   "metadata": {},
   "outputs": [],
   "source": [
    "class HandOfTheDealer :\n",
    "    \n",
    "    def __init__(self):\n",
    "        self.all_cards = []\n",
    "    \n",
    "    def initial_cards(self,only_two_cards):\n",
    "       \n",
    "        self.all_cards.append(only_two_cards[0])\n",
    "        self.all_cards.append(only_two_cards[1])\n",
    "        print(f\"one of the cards with the dealer is {only_two_cards[0]}\")\n",
    "        \n",
    "    def hit_or_stay(self,given_deck_of_cards):\n",
    "        a = []\n",
    "        b = 0\n",
    "        for card in self.all_cards:\n",
    "            a  = a + [str(card).split()[0]]\n",
    "            b += values[str(card).split()[0]]\n",
    "       \n",
    "                \n",
    "        while b <= 17 :\n",
    "            print(\"dealer went for a hit\")   \n",
    "            #always hit\n",
    "            \n",
    "            random.shuffle(given_deck_of_cards) \n",
    "            self.all_cards.append(given_deck_of_cards[-1])\n",
    "            given_deck_of_cards.pop()\n",
    "            b = b + values[str(given_deck_of_cards[-1]).split()[0]]\n",
    "        \n",
    "            \n",
    "        if b > 17 and b <20:\n",
    "            #either hit or stay\n",
    "            if random.choice([0,1,1,1,1]) == 0:\n",
    "               #hit\n",
    "                random.shuffle(given_deck_of_cards) \n",
    "                self.all_cards.append(given_deck_of_cards[-1])\n",
    "                given_deck_of_cards.pop()\n",
    "                print(\"dealer went for a hit\")\n",
    "            else :\n",
    "                #stay\n",
    "                print(\"dealer went for a stay\")\n",
    "        if b>20:\n",
    "            pass\n",
    "        print(\"dealer went for a stay\")\n",
    "        if b>21: \n",
    "            \n",
    "            for card in self.all_cards:\n",
    "                if str(card).split()[0] == \"Ace\" and b>21:\n",
    "                    b = b-10\n",
    "\n",
    "        \n",
    "        if b>21:\n",
    "            pass\n",
    "    \n",
    "    \n",
    "            \n",
    "        \n",
    "            \n"
   ]
  },
  {
   "cell_type": "code",
   "execution_count": null,
   "metadata": {},
   "outputs": [],
   "source": []
  },
  {
   "cell_type": "code",
   "execution_count": 20,
   "metadata": {},
   "outputs": [],
   "source": [
    "def blackjack():\n",
    "    introduction()\n",
    "    myaccount = BankRoll()\n",
    "    max_value = myaccount.amount()\n",
    "    if max_value > 0:\n",
    "        amount = input(\"place your bet here: \")\n",
    "        while amount.isdigit() == False or int(amount) > max_value:\n",
    "            amount = input(f\"please enter number between 0 and {max_value}(which is your current balance): \")\n",
    "        game_on = True\n",
    "        \n",
    "\n",
    "    else:\n",
    "        print(\"you can't place a bet anymore,you're out of balance\")\n",
    "        game_on = False\n",
    "\n",
    "    myaccount.subtraction(amount)\n",
    "    print(myaccount)\n",
    "    \n",
    "    def gameplay(amount):\n",
    "        game_deck = Deck()\n",
    "        game_deck.shuffle()\n",
    "        player_hand = Hand()\n",
    "        player_hand.initial_cards([game_deck.all_cards[-1],game_deck.all_cards[-2]])\n",
    "        game_deck.all_cards.pop()\n",
    "        game_deck.all_cards.pop()\n",
    "        dealer_hand = HandOfTheDealer()\n",
    "        dealer_hand.initial_cards([game_deck.all_cards[-1],game_deck.all_cards[-2]])\n",
    "        game_deck.all_cards.pop()\n",
    "        game_deck.all_cards.pop()\n",
    "        player_hand.hit_or_stay(game_deck.all_cards)\n",
    "        dealer_hand.hit_or_stay(game_deck.all_cards)\n",
    "       \n",
    "        player_score = 0\n",
    "        for card in player_hand.all_cards:\n",
    "            player_score += values[str(card).split()[0]]\n",
    "       \n",
    "        if player_score>21:    \n",
    "            for card in player_hand.all_cards:\n",
    "                if str(card).split()[0] == \"Ace\" and player_score>21:\n",
    "                    player_score = player_score - 10\n",
    "\n",
    "        \n",
    "        dealer_score = 0\n",
    "        for card in dealer_hand.all_cards:\n",
    "            dealer_score += values[str(card).split()[0]]\n",
    "        \n",
    "        if dealer_score>21:    \n",
    "            for card in dealer_hand.all_cards:\n",
    "                if str(card).split()[0] == \"Ace\" and dealer_score>21:\n",
    "                    dealer_score = dealer_score-10\n",
    "\n",
    "\n",
    "        if player_score>dealer_score and player_score<=21 :\n",
    "            print(\"you win\")\n",
    "            bet_won = True\n",
    "        elif dealer_score>player_score and dealer_score<=21 :\n",
    "            print(\"you lose\")\n",
    "            bet_won = False\n",
    "        elif player_score > 21: \n",
    "            print(\"BUSTED! \\nyou lose!!\")\n",
    "            bet_won = False\n",
    "        elif dealer_score>21 and player_score<=21:\n",
    "            print(\"DEALER BUSTED! \\nyou win!!\")\n",
    "            bet_won = True\n",
    "        elif player_score==dealer_score and player_score<21:\n",
    "            print(\"it's a draw!\")\n",
    "            bet_won = False\n",
    "            myaccount.addition(amount)\n",
    "            \n",
    "        print(f\"player_score:{player_score}\")\n",
    "        print(f\"dealer_score:{dealer_score}\")\n",
    "        print(\" \")\n",
    "        print(\"your cards:\")\n",
    "        for card in player_hand.all_cards:\n",
    "            print(card)\n",
    "        print(\" \")\n",
    "        print(\"dealer's card:\")\n",
    "        for card in dealer_hand.all_cards:\n",
    "            print(card)\n",
    "        if bet_won:\n",
    "            myaccount.addition(2*int(amount))\n",
    "            print(f\"{2*int(amount)} has been credited to your account\")\n",
    "        print(myaccount)\n",
    "        new_game()\n",
    "    \n",
    "    print(\" \")\n",
    "    \n",
    "    def new_game():    \n",
    "        print(\"do you want to continue playing?\")\n",
    "        reply = input(\"please answer in Yes or No only: \")\n",
    "        while reply.lower() not in [\"yes\",\"no\"]:\n",
    "            reply = input(\"please answer in Yes or No only : \")\n",
    "        if reply.lower() == \"yes\":\n",
    "            new_game = False\n",
    "            max_value = myaccount.amount()\n",
    "            if max_value > 0:\n",
    "                amount = input(\"place your bet here: \")\n",
    "                while amount.isdigit() == False or int(amount) > max_value:\n",
    "                    amount = input(f\"please enter number between 0 and {max_value}(which is your current balance): \")\n",
    "                game_on = True\n",
    "            else:\n",
    "                print(\"you can't place a bet anymore,you're out of balance\")\n",
    "                game_on = False\n",
    "            myaccount.subtraction(amount)\n",
    "            print(myaccount)\n",
    "            \n",
    "            if game_on:\n",
    "                gameplay(amount)\n",
    "\n",
    "        if reply.lower() == \"no\":\n",
    "            print(\"thanks for playing!\")\n",
    "    \n",
    "    if game_on:    \n",
    "        gameplay(amount)"
   ]
  },
  {
   "cell_type": "code",
   "execution_count": null,
   "metadata": {},
   "outputs": [
    {
     "name": "stdout",
     "output_type": "stream",
     "text": [
      "please enter your name: honey singh\n",
      "Hello honey singh ,we're about to start the game \n",
      "YOU HAVE 10000 CHIPS IN YOUR ACCOUNT ,PLACE YOUR BET ACCORDINGLY\n",
      "place your bet here: 1000\n",
      "You have 9000 left in your account\n",
      " \n",
      "your cards are:  \n",
      "Five of Clubs\n",
      "Three of Diamonds\n",
      " \n",
      "one of the cards with the dealer is King of Spades\n",
      "Hit or Stay: hit\n",
      "your cards are:  \n",
      "Five of Clubs\n",
      "Three of Diamonds\n",
      "Jack of Clubs\n",
      " \n",
      "Hit or Stay: stay\n",
      "your cards are:  \n",
      "Five of Clubs\n",
      "Three of Diamonds\n",
      "Jack of Clubs\n",
      " \n",
      "dealer went for a hit\n",
      "dealer went for a stay\n",
      "DEALER BUSTED! \n",
      "you win!!\n",
      "player_score:18\n",
      "dealer_score:28\n",
      " \n",
      "your cards:\n",
      "Five of Clubs\n",
      "Three of Diamonds\n",
      "Jack of Clubs\n",
      " \n",
      "dealer's card:\n",
      "King of Spades\n",
      "Eight of Hearts\n",
      "Ten of Spades\n",
      "2000 has been credited to your account\n",
      "You have 11000 left in your account\n",
      "do you want to continue playing?\n"
     ]
    }
   ],
   "source": [
    "blackjack()"
   ]
  },
  {
   "cell_type": "code",
   "execution_count": null,
   "metadata": {},
   "outputs": [],
   "source": [
    "\"yes\" in [\"yes\",\"no\"]"
   ]
  },
  {
   "cell_type": "code",
   "execution_count": null,
   "metadata": {},
   "outputs": [],
   "source": [
    "random.choice([0,1])"
   ]
  },
  {
   "cell_type": "code",
   "execution_count": null,
   "metadata": {},
   "outputs": [],
   "source": []
  },
  {
   "cell_type": "code",
   "execution_count": null,
   "metadata": {},
   "outputs": [],
   "source": []
  },
  {
   "cell_type": "code",
   "execution_count": null,
   "metadata": {},
   "outputs": [],
   "source": []
  },
  {
   "cell_type": "code",
   "execution_count": null,
   "metadata": {},
   "outputs": [],
   "source": []
  }
 ],
 "metadata": {
  "kernelspec": {
   "display_name": "Python 3",
   "language": "python",
   "name": "python3"
  },
  "language_info": {
   "codemirror_mode": {
    "name": "ipython",
    "version": 3
   },
   "file_extension": ".py",
   "mimetype": "text/x-python",
   "name": "python",
   "nbconvert_exporter": "python",
   "pygments_lexer": "ipython3",
   "version": "3.8.3"
  }
 },
 "nbformat": 4,
 "nbformat_minor": 4
}
